{
  "cells": [
    {
      "cell_type": "markdown",
      "metadata": {
        "id": "aAdPW6DqGWT5"
      },
      "source": [
        "implementation of slide bar puzzle"
      ]
    },
    {
      "cell_type": "code",
      "execution_count": null,
      "metadata": {
        "colab": {
          "background_save": true,
          "base_uri": "https://localhost:8080/"
        },
        "id": "h0PKBVvzHNxp",
        "outputId": "962d5d01-68e4-49c8-ae84-06a031c86f57"
      },
      "outputs": [
        {
          "name": "stdout",
          "output_type": "stream",
          "text": [
            "Welcome to Slide Bar Puzzle!\n",
            "Enter 'quit' to exit the game.\n",
            "5 6 *\n",
            "1 2 7\n",
            "4 8 3\n"
          ]
        }
      ],
      "source": [
        "import random\n",
        "\n",
        "class SlideBarPuzzle:\n",
        "    def __init__(self):\n",
        "        self.size = 3\n",
        "        self.board = [[j + i * self.size for j in range(1, self.size + 1)] for i in range(self.size)]\n",
        "        self.board[self.size - 1][self.size - 1] = None\n",
        "        self.empty_tile = (self.size - 1, self.size - 1)\n",
        "\n",
        "    def __str__(self):\n",
        "        return '\\n'.join([' '.join([str(tile) if tile is not None else '*' for tile in row]) for row in self.board])\n",
        "\n",
        "    def shuffle(self, moves=100):\n",
        "        for _ in range(moves):\n",
        "            self.random_move()\n",
        "\n",
        "    def random_move(self):\n",
        "        possible_moves = self.get_possible_moves()\n",
        "        if possible_moves:\n",
        "            move = random.choice(possible_moves)\n",
        "            self.move(move)\n",
        "\n",
        "    def get_possible_moves(self):\n",
        "        x, y = self.empty_tile\n",
        "        possible_moves = []\n",
        "        if x > 0:\n",
        "            possible_moves.append((x - 1, y))\n",
        "        if x < self.size - 1:\n",
        "            possible_moves.append((x + 1, y))\n",
        "        if y > 0:\n",
        "            possible_moves.append((x, y - 1))\n",
        "        if y < self.size - 1:\n",
        "            possible_moves.append((x, y + 1))\n",
        "        return possible_moves\n",
        "\n",
        "    def move(self, position):\n",
        "        x, y = self.empty_tile\n",
        "        new_x, new_y = position\n",
        "        self.board[x][y], self.board[new_x][new_y] = self.board[new_x][new_y], self.board[x][y]\n",
        "        self.empty_tile = position\n",
        "\n",
        "    def is_solved(self):\n",
        "        return all(self.board[i][j] == j + i * self.size + 1 for i in range(self.size) for j in range(self.size))\n",
        "\n",
        "    def play(self):\n",
        "        print(\"Welcome to Slide Bar Puzzle!\")\n",
        "        print(\"Enter 'quit' to exit the game.\")\n",
        "        self.shuffle()\n",
        "        while not self.is_solved():\n",
        "            print(self)\n",
        "            move = input(\"Enter a move (right, left, down, up): \").lower()\n",
        "            if move == 'quit':\n",
        "                print(\"Goodbye!\")\n",
        "                break\n",
        "            if move not in ('right', 'left', 'down', 'up'):\n",
        "                print(\"Invalid move. Please enter a valid move.\")\n",
        "                continue\n",
        "\n",
        "            if move == 'right':\n",
        "                self.move((self.empty_tile[0], self.empty_tile[1] + 1))\n",
        "            elif move == 'left':\n",
        "                self.move((self.empty_tile[0], self.empty_tile[1] - 1))\n",
        "            elif move == 'down':\n",
        "                self.move((self.empty_tile[0] + 1, self.empty_tile[1]))\n",
        "            elif move == 'up':\n",
        "                self.move((self.empty_tile[0] - 1, self.empty_tile[1]))\n",
        "\n",
        "        if self.is_solved():\n",
        "            print(\"Congratulations! You solved the puzzle!\")\n",
        "\n",
        "if __name__ == \"__main__\":\n",
        "    puzzle = SlideBarPuzzle()\n",
        "    puzzle.play()\n",
        "\n"
      ]
    }
  ],
  "metadata": {
    "colab": {
      "provenance": []
    },
    "kernelspec": {
      "display_name": "Python 3",
      "name": "python3"
    },
    "language_info": {
      "name": "python"
    }
  },
  "nbformat": 4,
  "nbformat_minor": 0
}